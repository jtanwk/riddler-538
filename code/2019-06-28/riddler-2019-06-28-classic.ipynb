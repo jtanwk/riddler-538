{
 "cells": [
  {
   "cell_type": "markdown",
   "metadata": {},
   "source": [
    "## Riddler Classic: June 28\n",
    "\n",
    "https://fivethirtyeight.com/features/whats-your-best-scrabble-string/\n",
    "\n",
    "### Prompt\n",
    "\n",
    "_The game of Scrabble has 100 tiles — 98 of these tiles contain a letter and a score, and two of them are wildcards worth zero points. At home on a lazy summer day with a bag of these tiles, you decide to play the Superstring Scrabble Challenge. Using only the 100 tiles, you lay them out into one long 100-letter string of your choosing. You look through the string. For each word you find, you earn points equal to its score. Once you find a word, you don’t get any points for finding it again. The same tile may be used in multiple, overlapping words. So ‘“theater” includes “the,” “heat,” “heater,” “eat,” “eater,” “ate,” etc._\n",
    "\n",
    "_The super challenge: What order of tiles gives you the biggest score? (The blank tiles are locked into the letter they represent once you’ve picked it.)_\n",
    "\n",
    "_The winner, and inaugural Wordsmith Extraordinaire of Riddler Nation, will be the solver whose string generates the most points. You should use [this word list](https://norvig.com/ngrams/enable1.txt) to determine whether a word is valid._\n",
    "\n",
    "_For reference, this is the distribution of letter tiles in the bag, by their point value:_\n",
    "\n",
    "- _0: ?×2_\n",
    "- _1: E×12 A×9 I×9 O×8 N×6 R×6 T×6 L×4 S×4 U×4_\n",
    "- _2: D×4 G×3_\n",
    "- _3: B×2 C×2 M×2 P×2_\n",
    "- _4: F×2 H×2 V×2 W×2 Y×2_\n",
    "- _5: K_\n",
    "- _8: J X_\n",
    "- _10: Q Z_\n",
    "\n",
    "Scrabble dictionary txt: https://norvig.com/ngrams/enable1.txt"
   ]
  },
  {
   "cell_type": "markdown",
   "metadata": {},
   "source": [
    "### Strategy\n",
    "\n",
    "100 factorial is roughly 9.33e157, so brute force string checking is probably out of the question.  Instead. we'll have to randomly generate tile strings from the available tilesets and check them as we go.\n",
    "\n",
    "0. Download Scrabble wordlist and make tileset\n",
    "1. Generate random tile string\n",
    "2. Split tile string into ngram combinations and filter ngram set by words in the Scrabble dictionary\n",
    "    - Longest possible Scrabble board word is 15 letters\n",
    "    - Longest word in the Scrabble word list is 28 letters\n",
    "3. Make scoring functions, score remaining set of valid words and get total score\n",
    "    - Use sets to make sure the same word is not scored twice + for efficient wordlist lookup\n",
    "    - Have two scoring mechanisms to handle if wildcard is present/absent in ngram\n",
    "    - Wildcards are locked in once they are used as a specific letter\n",
    "4. Repeat 1-3 for random tile strings"
   ]
  },
  {
   "cell_type": "code",
   "execution_count": 1,
   "metadata": {},
   "outputs": [],
   "source": [
    "import numpy as np\n",
    "import pandas as pd\n",
    "import itertools\n",
    "import random\n",
    "import re"
   ]
  },
  {
   "cell_type": "markdown",
   "metadata": {},
   "source": [
    "### 0. Download Scrabble wordlist and make tileset"
   ]
  },
  {
   "cell_type": "code",
   "execution_count": 2,
   "metadata": {},
   "outputs": [
    {
     "data": {
      "text/plain": [
       "['aa', 'aah', 'aahed', 'aahing', 'aahs']"
      ]
     },
     "execution_count": 2,
     "metadata": {},
     "output_type": "execute_result"
    }
   ],
   "source": [
    "# Load scrabble wordlist\n",
    "WORDLIST_FILE = 'words.txt'\n",
    "with open(WORDLIST_FILE) as f:\n",
    "    WORDLIST = set(f.read().split('\\n'))\n",
    "    \n",
    "sorted(list(WORDLIST))[:5]"
   ]
  },
  {
   "cell_type": "code",
   "execution_count": 3,
   "metadata": {},
   "outputs": [
    {
     "name": "stdout",
     "output_type": "stream",
     "text": [
      "100\n"
     ]
    },
    {
     "data": {
      "text/plain": [
       "'eeeeeeeeeeeeaiaiaiaiaiaiaiaiaioooooooonrtnrtnrtnrtnrtnrtlsudlsudlsudlsudgggbcmpfhvwybcmpfhvwykjxqz@#'"
      ]
     },
     "execution_count": 3,
     "metadata": {},
     "output_type": "execute_result"
    }
   ],
   "source": [
    "# Make tile string\n",
    "# @ and # represent two different wildcards\n",
    "TILES = ('e'*12) + ('ai'*9) + ('o'*8) + ('nrt'*6) + ('lsud'*4) + ('g'*3) + ('bcmpfhvwy'*2) + 'kjxqz@#'\n",
    "\n",
    "print(len(TILES))\n",
    "TILES"
   ]
  },
  {
   "cell_type": "code",
   "execution_count": 5,
   "metadata": {},
   "outputs": [
    {
     "data": {
      "text/plain": [
       "28"
      ]
     },
     "execution_count": 5,
     "metadata": {},
     "output_type": "execute_result"
    }
   ],
   "source": [
    "# What is the longest word in the wordlist?\n",
    "max(list(map(len, WORDLIST)))"
   ]
  },
  {
   "cell_type": "markdown",
   "metadata": {},
   "source": [
    "### 1. Make random tilestring generator"
   ]
  },
  {
   "cell_type": "code",
   "execution_count": 6,
   "metadata": {},
   "outputs": [
    {
     "data": {
      "text/plain": [
       "'cbmpreztad#tkhiaqrsarougrtelaeojgeiaehaniolbunanwiuyviifmenstretsepeeodas@oloneoddwnvaguexofylitrici'"
      ]
     },
     "execution_count": 6,
     "metadata": {},
     "output_type": "execute_result"
    }
   ],
   "source": [
    "def get_tilestring(tiles):\n",
    "    '''Samples without replacement from tiles, then joins output list back into a string and returns result.'''\n",
    "    return ''.join(random.sample(tiles, k=len(tiles)))\n",
    "\n",
    "get_tilestring(TILES)"
   ]
  },
  {
   "cell_type": "markdown",
   "metadata": {},
   "source": [
    "### 2. Split random tilestring into n-gram set and filter by Scrabble dictionary"
   ]
  },
  {
   "cell_type": "code",
   "execution_count": 7,
   "metadata": {
    "scrolled": true
   },
   "outputs": [
    {
     "data": {
      "text/plain": [
       "{'#h',\n",
       " '#he',\n",
       " '#hea',\n",
       " '#heat',\n",
       " '#heat@',\n",
       " '#heat@r',\n",
       " '@r',\n",
       " 'at',\n",
       " 'at@',\n",
       " 'at@r',\n",
       " 'eat',\n",
       " 'eat@',\n",
       " 'eat@r',\n",
       " 'he',\n",
       " 'heat',\n",
       " 'heat@',\n",
       " 'heat@r',\n",
       " 't@',\n",
       " 't@r'}"
      ]
     },
     "execution_count": 7,
     "metadata": {},
     "output_type": "execute_result"
    }
   ],
   "source": [
    "# Function to find all possible n-grams of each length\n",
    "# Adapted from http://www.locallyoptimal.com/blog/2013/01/20/elegant-n-gram-generation-in-python/\n",
    "def get_ngrams(input_string, n, min_length=2, wordlist=WORDLIST):\n",
    "    '''\n",
    "    Returns a set of all valid ngrams up to max length n from an input word.\n",
    "    Leaves in ngrams with wildcards. \n",
    "    '''\n",
    "    # Create and join ngrams in a set\n",
    "    result = set()\n",
    "    for i in range(min_length, n):\n",
    "        tuple_list = list(zip(*[input_string[x:] for x in range(i)]))\n",
    "        ngram_list = [''.join(x) for x in tuple_list]\n",
    "        result.update(ngram_list)\n",
    "    \n",
    "    # Filter out nonvalid words, but leave in wildcard ngrams\n",
    "    wildcard_ngrams = {x for x in result if '#' in x or '@' in x}\n",
    "    non_wildcard_ngrams = wordlist.intersection(result)\n",
    "    \n",
    "    return wildcard_ngrams.union(non_wildcard_ngrams)\n",
    "\n",
    "get_ngrams('#heat@r', 15)"
   ]
  },
  {
   "cell_type": "markdown",
   "metadata": {},
   "source": [
    "### 3. Make scoring functions, score remaining set of valid words and get total score"
   ]
  },
  {
   "cell_type": "code",
   "execution_count": 8,
   "metadata": {},
   "outputs": [],
   "source": [
    "# Make scoring dict for each letter\n",
    "letter_scores = {\"a\": 1 , \"b\": 3 , \"c\": 3 , \"d\": 2 , \"e\": 1 , \n",
    "                 \"f\": 4 , \"g\": 2 , \"h\": 4 , \"i\": 1 , \"j\": 8 , \n",
    "                 \"k\": 5 , \"l\": 1 , \"m\": 3 , \"n\": 1 , \"o\": 1 , \n",
    "                 \"p\": 3 , \"q\": 10, \"r\": 1 , \"s\": 1 , \"t\": 1 ,\n",
    "                 \"u\": 1 , \"v\": 4 , \"w\": 4 , \"x\": 8 , \"y\": 4 , \n",
    "                 \"z\": 10}"
   ]
  },
  {
   "cell_type": "code",
   "execution_count": 9,
   "metadata": {},
   "outputs": [
    {
     "data": {
      "text/plain": [
       "65"
      ]
     },
     "execution_count": 9,
     "metadata": {},
     "output_type": "execute_result"
    }
   ],
   "source": [
    "# Make simple scoring functions for each case\n",
    "def score_word(input_word, scoring_dict=letter_scores):\n",
    "    '''Applies scoring_dict for each letter in the word and returns the total sum.'''\n",
    "    return sum([scoring_dict[x] for x in input_word])\n",
    "\n",
    "\n",
    "def score_set(input_set):\n",
    "    '''Scores all words in the sets and returns the total sum'''\n",
    "    return sum(list(map(score_word, input_set)))\n",
    "\n",
    "\n",
    "def score_wildcard_set(input_set, wordlist=WORDLIST):\n",
    "    \n",
    "    sub_options = list(itertools.product([chr(97 + x) for x in range(26)], repeat=2))\n",
    "    sub_scores = []\n",
    "    \n",
    "    for i, j in sub_options:\n",
    "        substituted = {x.replace('@', i).replace('#', j) for x in input_set}.intersection(wordlist)\n",
    "        sub_scores.append(score_set(substituted))\n",
    "        \n",
    "    best_score, best_sub = sorted(zip(sub_scores, sub_options))[-1]\n",
    "    # print(f\"Best substitution for '@' and '#' were {best_sub} respectively\")\n",
    "    \n",
    "    return best_score\n",
    "\n",
    "# Make wrapper scoring function to handle all cases\n",
    "def get_score(input_set, wordlist=WORDLIST):\n",
    "    '''\n",
    "    Applies score_word to every element of input_set and returns the total score.\n",
    "    '''\n",
    "    # Score non-wildcard words\n",
    "    non_wild_words = {x for x in input_set if '@' not in x and '#' not in x}\n",
    "    non_wild_sum = score_set(non_wild_words)\n",
    "    \n",
    "    # Score wildcard words\n",
    "    wild_words = {x for x in input_set if '@' in x or '#' in x}\n",
    "    wild_sum = score_wildcard_set(wild_words)\n",
    "    \n",
    "    return non_wild_sum + wild_sum\n",
    "\n",
    "get_score(get_ngrams('#heat@r', 15))"
   ]
  },
  {
   "cell_type": "code",
   "execution_count": 10,
   "metadata": {},
   "outputs": [
    {
     "data": {
      "text/plain": [
       "{'at', 'eat', 'eath', 'he', 'heat', 'heath', 'sh', 'she', 'shea', 'sheath'}"
      ]
     },
     "execution_count": 10,
     "metadata": {},
     "output_type": "execute_result"
    }
   ],
   "source": [
    "# Verify that sum is correct \n",
    "test_set = get_ngrams('#heat@r', 15)\n",
    "{x.replace('@', 'h').replace('#', 's') for x in test_set}.intersection(WORDLIST)"
   ]
  },
  {
   "cell_type": "markdown",
   "metadata": {},
   "source": [
    "### 4. Repeat 1-3 on multiple random tilestrings"
   ]
  },
  {
   "cell_type": "code",
   "execution_count": 11,
   "metadata": {},
   "outputs": [
    {
     "name": "stdout",
     "output_type": "stream",
     "text": [
      "Best tiles: qvarwtodsgid#edoa@jnilhaofuirarianhowobisnaifdncvbeeenixyutrorkaeillsetamreleucuszegonmeyeagtopitpte\n",
      "Best score: 313\n"
     ]
    }
   ],
   "source": [
    "best_score = 0\n",
    "best_tileset = ''\n",
    "\n",
    "for i in range(100):\n",
    "    tiles = get_tilestring(TILES)\n",
    "    ngrams = get_ngrams(tiles, 15)\n",
    "    score = get_score(ngrams)\n",
    "    \n",
    "    print(f\"READING: {tiles}\", end='\\r')\n",
    "    \n",
    "    if score > best_score:\n",
    "        best_score = score\n",
    "        best_tileset = tiles\n",
    "        \n",
    "print(\"Best tiles:\", best_tileset)\n",
    "print(\"Best score:\", best_score)"
   ]
  }
 ],
 "metadata": {
  "kernelspec": {
   "display_name": "Python 3",
   "language": "python",
   "name": "python3"
  },
  "language_info": {
   "codemirror_mode": {
    "name": "ipython",
    "version": 3
   },
   "file_extension": ".py",
   "mimetype": "text/x-python",
   "name": "python",
   "nbconvert_exporter": "python",
   "pygments_lexer": "ipython3",
   "version": "3.7.1"
  }
 },
 "nbformat": 4,
 "nbformat_minor": 2
}
