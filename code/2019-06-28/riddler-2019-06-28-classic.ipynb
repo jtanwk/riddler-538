{
 "cells": [
  {
   "cell_type": "markdown",
   "metadata": {},
   "source": [
    "## Riddler Classic: June 28\n",
    "\n",
    "https://fivethirtyeight.com/features/whats-your-best-scrabble-string/\n",
    "\n",
    "The game of Scrabble has 100 tiles — 98 of these tiles contain a letter and a score, and two of them are wildcards worth zero points. At home on a lazy summer day with a bag of these tiles, you decide to play the Superstring Scrabble Challenge. Using only the 100 tiles, you lay them out into one long 100-letter string of your choosing. You look through the string. For each word you find, you earn points equal to its score. Once you find a word, you don’t get any points for finding it again. The same tile may be used in multiple, overlapping words. So ‘“theater” includes “the,” “heat,” “heater,” “eat,” “eater,” “ate,” etc.\n",
    "\n",
    "The super challenge: What order of tiles gives you the biggest score? (The blank tiles are locked into the letter they represent once you’ve picked it.)\n",
    "\n",
    "The winner, and inaugural Wordsmith Extraordinaire of Riddler Nation, will be the solver whose string generates the most points. You should use this word list to determine whether a word is valid.\n",
    "\n",
    "For reference, this is the distribution of letter tiles in the bag, by their point value:\n",
    "\n",
    "- 0: ?×2\n",
    "- 1: E×12 A×9 I×9 O×8 N×6 R×6 T×6 L×4 S×4 U×4\n",
    "- 2: D×4 G×3\n",
    "- 3: B×2 C×2 M×2 P×2\n",
    "- 4: F×2 H×2 V×2 W×2 Y×2\n",
    "- 5: K\n",
    "- 8: J X\n",
    "- 10: Q Z\n",
    "\n",
    "Scrabble dictionary txt: https://norvig.com/ngrams/enable1.txt"
   ]
  },
  {
   "cell_type": "markdown",
   "metadata": {},
   "source": [
    "### Strategy\n",
    "\n",
    "100 factorial is roughly 9.33e157, so brute force string checking will not be efficient. We'll have to randomly generate tile strings from the available tilesets and check them. \n",
    "\n",
    "0. Make scoring dict and scoring function for a given string input\n",
    "    - Use sets to make sure the same word is not scored twice\n",
    "    - Have two scoring mechanisms to handle if wildcard is present/absent in ngram\n",
    "    - Wildcards are locked in once they are used as a specific letter\n",
    "1. Generate random tile string\n",
    "2. Split tile string into ngram combinations and filter ngram set by words in the Scrabble dictionary\n",
    "    - Longest possible Scrabble board word is 15 letters\n",
    "    - Longest word in the Scrabble word list is 28 letters\n",
    "3. Score remaining set of valid words and get total score\n",
    "4. Repeat 1-3 for random tile strings"
   ]
  },
  {
   "cell_type": "code",
   "execution_count": 99,
   "metadata": {},
   "outputs": [],
   "source": [
    "import numpy as np\n",
    "import pandas as pd\n",
    "import itertools\n",
    "import random\n",
    "import re\n",
    "from urllib.request import urlopen"
   ]
  },
  {
   "cell_type": "markdown",
   "metadata": {},
   "source": [
    "### 0. Make scoring dict, scoring function and download Scrabble wordlist"
   ]
  },
  {
   "cell_type": "code",
   "execution_count": null,
   "metadata": {},
   "outputs": [],
   "source": [
    "# Load scrabble wordlist\n",
    "WORDLIST_FILE = 'words.txt'\n",
    "with open(WORDLIST_FILE) as f:\n",
    "    WORDLIST = set(f.read().split('\\n'))\n",
    "    \n",
    "sorted(list(WORDLIST))[:5]"
   ]
  },
  {
   "cell_type": "code",
   "execution_count": 9,
   "metadata": {},
   "outputs": [
    {
     "name": "stdout",
     "output_type": "stream",
     "text": [
      "100\n"
     ]
    },
    {
     "data": {
      "text/plain": [
       "'eeeeeeeeeeeeaiaiaiaiaiaiaiaiaioooooooonrtnrtnrtnrtnrtnrtlsudlsudlsudlsudgggbcmpfhvwybcmpfhvwykjxqz??'"
      ]
     },
     "execution_count": 9,
     "metadata": {},
     "output_type": "execute_result"
    }
   ],
   "source": [
    "# Make tile string\n",
    "# @ and # represent two different wildcards\n",
    "TILES = ('e'*12) + ('ai'*9) + ('o'*8) + ('nrt'*6) + ('lsud'*4) + ('g'*3) + ('bcmpfhvwy'*2) + 'kjxqz@#'\n",
    "\n",
    "print(len(TILES))\n",
    "TILES"
   ]
  },
  {
   "cell_type": "code",
   "execution_count": 10,
   "metadata": {},
   "outputs": [],
   "source": [
    "# Make scoring dict for each letter\n",
    "letter_scores = {\"a\": 1 , \"b\": 3 , \"c\": 3 , \"d\": 2 , \"e\": 1 , \n",
    "                 \"f\": 4 , \"g\": 2 , \"h\": 4 , \"i\": 1 , \"j\": 8 , \n",
    "                 \"k\": 5 , \"l\": 1 , \"m\": 3 , \"n\": 1 , \"o\": 1 , \n",
    "                 \"p\": 3 , \"q\": 10, \"r\": 1 , \"s\": 1 , \"t\": 1 ,\n",
    "                 \"u\": 1 , \"v\": 4 , \"w\": 4 , \"x\": 8 , \"y\": 4 , \n",
    "                 \"z\": 10}"
   ]
  },
  {
   "cell_type": "code",
   "execution_count": 117,
   "metadata": {},
   "outputs": [
    {
     "name": "stdout",
     "output_type": "stream",
     "text": [
      "['tent', 'teat', 'text', 'test']\n",
      "[4, 4, 11, 4]\n"
     ]
    }
   ],
   "source": [
    "# Make scoring function\n",
    "def score_word(input_word, scoring_dict=letter_scores):\n",
    "    return sum([scoring_dict[x] for x in input_word])\n",
    "\n",
    "# Make wrapper scoring function to deal with wildcards\n",
    "def get_word_score(input_word, scoring_dict=letter_scores):\n",
    "    ''''\n",
    "    OLD STRATEGY\n",
    "    If a word contains a wildcard:\n",
    "        1. Make list of all possible words\n",
    "        2. Determine the highest-scoring possible word (and thus best replacement for wildcard)\n",
    "        3. Replace all other words in the ngram set with the same wildcard \n",
    "        \n",
    "    NEW STRATEGY\n",
    "    Handle words with wildcards separately.\n",
    "        1. Make ngrams as usual, but leave in wildcard ngrams when filtering out non-wordlist ngrams\n",
    "        2. Score non-wildcard ngrams as planned.\n",
    "        3. For each wildcard, substitute in each letter of the alphabet and see which combination gives the highest score\n",
    "        4. Select appropriate lockdown values for each wildcard and calculate final score.\n",
    "    '''\n",
    "    if '@' in input_word:\n",
    "        r = re.compile('^' + re.sub('@', '[a-z]', input_word) + '$')\n",
    "        possible_words = list(filter(r.match, WORDLIST))\n",
    "        print(possible_words)\n",
    "        possible_scores = [score_word(x) for x in possible_words]\n",
    "        print(possible_scores)\n",
    "    elif '#' in input_word:\n",
    "        pass\n",
    "    else:\n",
    "        return score_word(input_word)\n",
    "\n",
    "\n",
    "# \"test\" should have a score of 4\n",
    "get_word_score('te@t')"
   ]
  },
  {
   "cell_type": "code",
   "execution_count": 81,
   "metadata": {},
   "outputs": [
    {
     "data": {
      "text/plain": [
       "28"
      ]
     },
     "execution_count": 81,
     "metadata": {},
     "output_type": "execute_result"
    }
   ],
   "source": [
    "# What is the longest word in the wordlist?\n",
    "max(list(map(len, WORDLIST)))"
   ]
  },
  {
   "cell_type": "markdown",
   "metadata": {},
   "source": [
    "### 1. Make random tilestring generator"
   ]
  },
  {
   "cell_type": "code",
   "execution_count": 87,
   "metadata": {},
   "outputs": [
    {
     "data": {
      "text/plain": [
       "'ayiigiearnsdoafibitboautonafrleuvuoongehnalrzcrlkeetqdspr?yhi?easwpnoaocemmarvexeudnlwotteejeigtisid'"
      ]
     },
     "execution_count": 87,
     "metadata": {},
     "output_type": "execute_result"
    }
   ],
   "source": [
    "def get_tilestring(tiles):\n",
    "    '''Samples without replacement from tiles, then joins output list back into a string and returns result.'''\n",
    "    return ''.join(random.sample(tiles, k=len(tiles)))\n",
    "\n",
    "get_tilestring(TILES)"
   ]
  },
  {
   "cell_type": "markdown",
   "metadata": {},
   "source": [
    "### 2. Split random tilestring into n-gram set and filter by Scrabble dictionary"
   ]
  },
  {
   "cell_type": "code",
   "execution_count": 97,
   "metadata": {},
   "outputs": [
    {
     "data": {
      "text/plain": [
       "{'at', 'ate', 'eat', 'eater', 'er', 'he', 'heat', 'heater', 'the', 'theater'}"
      ]
     },
     "execution_count": 97,
     "metadata": {},
     "output_type": "execute_result"
    }
   ],
   "source": [
    "# Function to find all possible n-grams of each length\n",
    "# Adapted from http://www.locallyoptimal.com/blog/2013/01/20/elegant-n-gram-generation-in-python/\n",
    "def get_ngrams(input_word, n, min_length=2, wordlist=WORDLIST):\n",
    "    result = set()\n",
    "    for i in range(min_length, n):\n",
    "        tuple_list = list(zip(*[input_word[x:] for x in range(i)]))\n",
    "        ngram_list = [''.join(x) for x in tuple_list]\n",
    "        result.update(ngram_list)\n",
    "        \n",
    "    return wordlist.intersection(result)\n",
    "\n",
    "get_ngrams('theater', 15)"
   ]
  },
  {
   "cell_type": "markdown",
   "metadata": {},
   "source": [
    "### 3. Score remaining set of valid words and get total score"
   ]
  },
  {
   "cell_type": "code",
   "execution_count": 96,
   "metadata": {},
   "outputs": [
    {
     "data": {
      "text/plain": [
       "52"
      ]
     },
     "execution_count": 96,
     "metadata": {},
     "output_type": "execute_result"
    }
   ],
   "source": [
    "def get_score(input_set):\n",
    "    return sum(list(map(score_word, input_set)))\n",
    "\n",
    "get_score(get_ngrams('theater', 15))"
   ]
  },
  {
   "cell_type": "markdown",
   "metadata": {},
   "source": [
    "### 4. Repeat 1-3 on multiple random tilestrings"
   ]
  },
  {
   "cell_type": "code",
   "execution_count": null,
   "metadata": {},
   "outputs": [],
   "source": []
  }
 ],
 "metadata": {
  "kernelspec": {
   "display_name": "Python 3",
   "language": "python",
   "name": "python3"
  },
  "language_info": {
   "codemirror_mode": {
    "name": "ipython",
    "version": 3
   },
   "file_extension": ".py",
   "mimetype": "text/x-python",
   "name": "python",
   "nbconvert_exporter": "python",
   "pygments_lexer": "ipython3",
   "version": "3.7.1"
  }
 },
 "nbformat": 4,
 "nbformat_minor": 2
}
